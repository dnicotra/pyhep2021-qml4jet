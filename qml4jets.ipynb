{
 "cells": [
  {
   "cell_type": "markdown",
   "id": "70b0adf9-1041-4286-b22c-62e710b91fa2",
   "metadata": {},
   "source": [
    "# Jet tagging with Quantum Machine Learning @ LHCb"
   ]
  },
  {
   "cell_type": "markdown",
   "id": "912668d0-83e2-48e7-b03d-44a5db87035b",
   "metadata": {},
   "source": [
    " "
   ]
  },
  {
   "cell_type": "code",
   "execution_count": 1,
   "id": "1c89353c-847b-4e9c-8b29-0377e4d86c8c",
   "metadata": {},
   "outputs": [],
   "source": [
    "import numpy as np\n",
    "import matplotlib.pyplot as plt"
   ]
  },
  {
   "cell_type": "markdown",
   "id": "f0cc8d3d-a703-4268-a977-1fc8e9da886b",
   "metadata": {},
   "source": [
    "## Dataset\n",
    "The dataset is stored in two csv files produced using LHCb OpenData tuples that are publicly available"
   ]
  },
  {
   "cell_type": "code",
   "execution_count": 2,
   "id": "7f26a24b-c37f-42ba-b98e-3302993906f8",
   "metadata": {},
   "outputs": [],
   "source": [
    "import pandas as pd\n",
    "# Input variables of the quantum circuit\n",
    "variables = ['idx','mu_Q', 'mu_pTrel','mu_dist',  # (anti-)muon\n",
    "             'k_Q', 'k_pTrel','k_dist',     # (anti-)kaon\n",
    "             'pi_Q', 'pi_pTrel','pi_dist',  # (anti-)pion\n",
    "             'e_Q', 'e_pTrel','e_dist',     # (anti-)electron\n",
    "             'p_Q', 'p_pTrel','p_dist',     # (anti-)proton\n",
    "             'Jet_QTOT',                    # Weighted Jet Total Charge\n",
    "             'Jet_LABEL']                   # Ground Truth label\n",
    "\n",
    "# Events are split in two subsets for training and testing\n",
    "trainData = pd.read_csv(\"data/trainData.csv\")[variables]\n",
    "testData = pd.read_csv(\"data/testData.csv\")[variables]"
   ]
  },
  {
   "cell_type": "code",
   "execution_count": 3,
   "id": "c020900d-59ad-4005-b161-803888b94bc7",
   "metadata": {},
   "outputs": [
    {
     "data": {
      "text/html": [
       "<div>\n",
       "<style scoped>\n",
       "    .dataframe tbody tr th:only-of-type {\n",
       "        vertical-align: middle;\n",
       "    }\n",
       "\n",
       "    .dataframe tbody tr th {\n",
       "        vertical-align: top;\n",
       "    }\n",
       "\n",
       "    .dataframe thead th {\n",
       "        text-align: right;\n",
       "    }\n",
       "</style>\n",
       "<table border=\"1\" class=\"dataframe\">\n",
       "  <thead>\n",
       "    <tr style=\"text-align: right;\">\n",
       "      <th></th>\n",
       "      <th>idx</th>\n",
       "      <th>mu_Q</th>\n",
       "      <th>mu_pTrel</th>\n",
       "      <th>mu_dist</th>\n",
       "      <th>k_Q</th>\n",
       "      <th>k_pTrel</th>\n",
       "      <th>k_dist</th>\n",
       "      <th>pi_Q</th>\n",
       "      <th>pi_pTrel</th>\n",
       "      <th>pi_dist</th>\n",
       "      <th>e_Q</th>\n",
       "      <th>e_pTrel</th>\n",
       "      <th>e_dist</th>\n",
       "      <th>p_Q</th>\n",
       "      <th>p_pTrel</th>\n",
       "      <th>p_dist</th>\n",
       "      <th>Jet_QTOT</th>\n",
       "      <th>Jet_LABEL</th>\n",
       "    </tr>\n",
       "  </thead>\n",
       "  <tbody>\n",
       "    <tr>\n",
       "      <th>0</th>\n",
       "      <td>193050_bbdw50V2</td>\n",
       "      <td>0.0</td>\n",
       "      <td>0.000000</td>\n",
       "      <td>0.000000</td>\n",
       "      <td>0.0</td>\n",
       "      <td>0.000000</td>\n",
       "      <td>0.000000</td>\n",
       "      <td>1.0</td>\n",
       "      <td>890.095232</td>\n",
       "      <td>0.183681</td>\n",
       "      <td>0.0</td>\n",
       "      <td>0.000000</td>\n",
       "      <td>0.000000</td>\n",
       "      <td>0.0</td>\n",
       "      <td>0.000000</td>\n",
       "      <td>0.000000</td>\n",
       "      <td>0.074850</td>\n",
       "      <td>1</td>\n",
       "    </tr>\n",
       "    <tr>\n",
       "      <th>1</th>\n",
       "      <td>149852_bbdw50V2</td>\n",
       "      <td>0.0</td>\n",
       "      <td>0.000000</td>\n",
       "      <td>0.000000</td>\n",
       "      <td>0.0</td>\n",
       "      <td>0.000000</td>\n",
       "      <td>0.000000</td>\n",
       "      <td>1.0</td>\n",
       "      <td>626.426733</td>\n",
       "      <td>0.143763</td>\n",
       "      <td>1.0</td>\n",
       "      <td>46.453933</td>\n",
       "      <td>0.145099</td>\n",
       "      <td>0.0</td>\n",
       "      <td>0.000000</td>\n",
       "      <td>0.000000</td>\n",
       "      <td>0.265662</td>\n",
       "      <td>1</td>\n",
       "    </tr>\n",
       "    <tr>\n",
       "      <th>2</th>\n",
       "      <td>105744_bbdw20V2</td>\n",
       "      <td>0.0</td>\n",
       "      <td>0.000000</td>\n",
       "      <td>0.000000</td>\n",
       "      <td>-1.0</td>\n",
       "      <td>18.137164</td>\n",
       "      <td>0.005636</td>\n",
       "      <td>1.0</td>\n",
       "      <td>818.093614</td>\n",
       "      <td>0.397854</td>\n",
       "      <td>0.0</td>\n",
       "      <td>0.000000</td>\n",
       "      <td>0.000000</td>\n",
       "      <td>0.0</td>\n",
       "      <td>0.000000</td>\n",
       "      <td>0.000000</td>\n",
       "      <td>0.111038</td>\n",
       "      <td>0</td>\n",
       "    </tr>\n",
       "    <tr>\n",
       "      <th>3</th>\n",
       "      <td>210937_bbdw50V2</td>\n",
       "      <td>0.0</td>\n",
       "      <td>0.000000</td>\n",
       "      <td>0.000000</td>\n",
       "      <td>1.0</td>\n",
       "      <td>325.469288</td>\n",
       "      <td>0.325645</td>\n",
       "      <td>1.0</td>\n",
       "      <td>2225.300742</td>\n",
       "      <td>0.079475</td>\n",
       "      <td>-1.0</td>\n",
       "      <td>121.388362</td>\n",
       "      <td>0.451234</td>\n",
       "      <td>0.0</td>\n",
       "      <td>0.000000</td>\n",
       "      <td>0.000000</td>\n",
       "      <td>0.802690</td>\n",
       "      <td>1</td>\n",
       "    </tr>\n",
       "    <tr>\n",
       "      <th>4</th>\n",
       "      <td>200964_bbdw20V2</td>\n",
       "      <td>0.0</td>\n",
       "      <td>0.000000</td>\n",
       "      <td>0.000000</td>\n",
       "      <td>0.0</td>\n",
       "      <td>0.000000</td>\n",
       "      <td>0.000000</td>\n",
       "      <td>-1.0</td>\n",
       "      <td>643.830874</td>\n",
       "      <td>0.247228</td>\n",
       "      <td>1.0</td>\n",
       "      <td>13.429954</td>\n",
       "      <td>0.022191</td>\n",
       "      <td>0.0</td>\n",
       "      <td>0.000000</td>\n",
       "      <td>0.000000</td>\n",
       "      <td>-0.337908</td>\n",
       "      <td>1</td>\n",
       "    </tr>\n",
       "    <tr>\n",
       "      <th>...</th>\n",
       "      <td>...</td>\n",
       "      <td>...</td>\n",
       "      <td>...</td>\n",
       "      <td>...</td>\n",
       "      <td>...</td>\n",
       "      <td>...</td>\n",
       "      <td>...</td>\n",
       "      <td>...</td>\n",
       "      <td>...</td>\n",
       "      <td>...</td>\n",
       "      <td>...</td>\n",
       "      <td>...</td>\n",
       "      <td>...</td>\n",
       "      <td>...</td>\n",
       "      <td>...</td>\n",
       "      <td>...</td>\n",
       "      <td>...</td>\n",
       "      <td>...</td>\n",
       "    </tr>\n",
       "    <tr>\n",
       "      <th>442822</th>\n",
       "      <td>179252_bbup20V2</td>\n",
       "      <td>0.0</td>\n",
       "      <td>0.000000</td>\n",
       "      <td>0.000000</td>\n",
       "      <td>1.0</td>\n",
       "      <td>816.199330</td>\n",
       "      <td>0.431660</td>\n",
       "      <td>-1.0</td>\n",
       "      <td>238.314901</td>\n",
       "      <td>0.025363</td>\n",
       "      <td>1.0</td>\n",
       "      <td>1.422987</td>\n",
       "      <td>0.004671</td>\n",
       "      <td>-1.0</td>\n",
       "      <td>618.842862</td>\n",
       "      <td>0.162634</td>\n",
       "      <td>0.049430</td>\n",
       "      <td>1</td>\n",
       "    </tr>\n",
       "    <tr>\n",
       "      <th>442823</th>\n",
       "      <td>129589_bbdw50V2</td>\n",
       "      <td>0.0</td>\n",
       "      <td>0.000000</td>\n",
       "      <td>0.000000</td>\n",
       "      <td>0.0</td>\n",
       "      <td>0.000000</td>\n",
       "      <td>0.000000</td>\n",
       "      <td>1.0</td>\n",
       "      <td>874.153517</td>\n",
       "      <td>0.406933</td>\n",
       "      <td>-1.0</td>\n",
       "      <td>94.079730</td>\n",
       "      <td>0.129382</td>\n",
       "      <td>0.0</td>\n",
       "      <td>0.000000</td>\n",
       "      <td>0.000000</td>\n",
       "      <td>-0.051080</td>\n",
       "      <td>1</td>\n",
       "    </tr>\n",
       "    <tr>\n",
       "      <th>442824</th>\n",
       "      <td>186866_bbdw20V2</td>\n",
       "      <td>1.0</td>\n",
       "      <td>850.089781</td>\n",
       "      <td>0.159359</td>\n",
       "      <td>0.0</td>\n",
       "      <td>0.000000</td>\n",
       "      <td>0.000000</td>\n",
       "      <td>1.0</td>\n",
       "      <td>391.015117</td>\n",
       "      <td>0.234847</td>\n",
       "      <td>0.0</td>\n",
       "      <td>0.000000</td>\n",
       "      <td>0.000000</td>\n",
       "      <td>0.0</td>\n",
       "      <td>0.000000</td>\n",
       "      <td>0.000000</td>\n",
       "      <td>0.827509</td>\n",
       "      <td>1</td>\n",
       "    </tr>\n",
       "    <tr>\n",
       "      <th>442825</th>\n",
       "      <td>262204_bbup50V2</td>\n",
       "      <td>0.0</td>\n",
       "      <td>0.000000</td>\n",
       "      <td>0.000000</td>\n",
       "      <td>0.0</td>\n",
       "      <td>0.000000</td>\n",
       "      <td>0.000000</td>\n",
       "      <td>-1.0</td>\n",
       "      <td>627.943798</td>\n",
       "      <td>0.218008</td>\n",
       "      <td>0.0</td>\n",
       "      <td>0.000000</td>\n",
       "      <td>0.000000</td>\n",
       "      <td>1.0</td>\n",
       "      <td>349.426663</td>\n",
       "      <td>0.207633</td>\n",
       "      <td>0.187058</td>\n",
       "      <td>0</td>\n",
       "    </tr>\n",
       "    <tr>\n",
       "      <th>442826</th>\n",
       "      <td>170062_bbdw20V2</td>\n",
       "      <td>0.0</td>\n",
       "      <td>0.000000</td>\n",
       "      <td>0.000000</td>\n",
       "      <td>0.0</td>\n",
       "      <td>0.000000</td>\n",
       "      <td>0.000000</td>\n",
       "      <td>-1.0</td>\n",
       "      <td>985.403836</td>\n",
       "      <td>0.219672</td>\n",
       "      <td>-1.0</td>\n",
       "      <td>162.071386</td>\n",
       "      <td>0.196865</td>\n",
       "      <td>0.0</td>\n",
       "      <td>0.000000</td>\n",
       "      <td>0.000000</td>\n",
       "      <td>-0.177971</td>\n",
       "      <td>1</td>\n",
       "    </tr>\n",
       "  </tbody>\n",
       "</table>\n",
       "<p>442827 rows × 18 columns</p>\n",
       "</div>"
      ],
      "text/plain": [
       "                    idx  mu_Q    mu_pTrel   mu_dist  k_Q     k_pTrel  \\\n",
       "0       193050_bbdw50V2   0.0    0.000000  0.000000  0.0    0.000000   \n",
       "1       149852_bbdw50V2   0.0    0.000000  0.000000  0.0    0.000000   \n",
       "2       105744_bbdw20V2   0.0    0.000000  0.000000 -1.0   18.137164   \n",
       "3       210937_bbdw50V2   0.0    0.000000  0.000000  1.0  325.469288   \n",
       "4       200964_bbdw20V2   0.0    0.000000  0.000000  0.0    0.000000   \n",
       "...                 ...   ...         ...       ...  ...         ...   \n",
       "442822  179252_bbup20V2   0.0    0.000000  0.000000  1.0  816.199330   \n",
       "442823  129589_bbdw50V2   0.0    0.000000  0.000000  0.0    0.000000   \n",
       "442824  186866_bbdw20V2   1.0  850.089781  0.159359  0.0    0.000000   \n",
       "442825  262204_bbup50V2   0.0    0.000000  0.000000  0.0    0.000000   \n",
       "442826  170062_bbdw20V2   0.0    0.000000  0.000000  0.0    0.000000   \n",
       "\n",
       "          k_dist  pi_Q     pi_pTrel   pi_dist  e_Q     e_pTrel    e_dist  p_Q  \\\n",
       "0       0.000000   1.0   890.095232  0.183681  0.0    0.000000  0.000000  0.0   \n",
       "1       0.000000   1.0   626.426733  0.143763  1.0   46.453933  0.145099  0.0   \n",
       "2       0.005636   1.0   818.093614  0.397854  0.0    0.000000  0.000000  0.0   \n",
       "3       0.325645   1.0  2225.300742  0.079475 -1.0  121.388362  0.451234  0.0   \n",
       "4       0.000000  -1.0   643.830874  0.247228  1.0   13.429954  0.022191  0.0   \n",
       "...          ...   ...          ...       ...  ...         ...       ...  ...   \n",
       "442822  0.431660  -1.0   238.314901  0.025363  1.0    1.422987  0.004671 -1.0   \n",
       "442823  0.000000   1.0   874.153517  0.406933 -1.0   94.079730  0.129382  0.0   \n",
       "442824  0.000000   1.0   391.015117  0.234847  0.0    0.000000  0.000000  0.0   \n",
       "442825  0.000000  -1.0   627.943798  0.218008  0.0    0.000000  0.000000  1.0   \n",
       "442826  0.000000  -1.0   985.403836  0.219672 -1.0  162.071386  0.196865  0.0   \n",
       "\n",
       "           p_pTrel    p_dist  Jet_QTOT  Jet_LABEL  \n",
       "0         0.000000  0.000000  0.074850          1  \n",
       "1         0.000000  0.000000  0.265662          1  \n",
       "2         0.000000  0.000000  0.111038          0  \n",
       "3         0.000000  0.000000  0.802690          1  \n",
       "4         0.000000  0.000000 -0.337908          1  \n",
       "...            ...       ...       ...        ...  \n",
       "442822  618.842862  0.162634  0.049430          1  \n",
       "442823    0.000000  0.000000 -0.051080          1  \n",
       "442824    0.000000  0.000000  0.827509          1  \n",
       "442825  349.426663  0.207633  0.187058          0  \n",
       "442826    0.000000  0.000000 -0.177971          1  \n",
       "\n",
       "[442827 rows x 18 columns]"
      ]
     },
     "execution_count": 3,
     "metadata": {},
     "output_type": "execute_result"
    }
   ],
   "source": [
    "trainData"
   ]
  },
  {
   "cell_type": "markdown",
   "id": "f5d243a0-d1b5-409b-9d44-07a06ab07864",
   "metadata": {},
   "source": [
    " ## Preprocessing\n",
    " The variables need to be preprocessed before the training process. Here we adopt a technique that suited well for our QML application: firstly data are normalized using a StandardScaler, then the arctan function is applied."
   ]
  },
  {
   "cell_type": "code",
   "execution_count": 4,
   "id": "98d84e67-ba46-4644-9280-8d0bb5f53c0b",
   "metadata": {},
   "outputs": [],
   "source": [
    "from sklearn.preprocessing import StandardScaler\n",
    "scaler = StandardScaler()\n",
    "scaler.fit(pd.concat([trainData,testData])[variables[1:-1]])\n",
    "trainData[variables[1:-1]] = np.arctan(trainData[variables[1:-1]])\n",
    "testData[variables[1:-1]] = np.arctan(testData[variables[1:-1]])"
   ]
  },
  {
   "cell_type": "markdown",
   "id": "947f86e2-7b5f-4ab4-a474-faa80aefff01",
   "metadata": {},
   "source": [
    "## QML Model\n",
    "![Circuit](img/circuit.png)\n",
    "\n"
   ]
  },
  {
   "cell_type": "code",
   "execution_count": 5,
   "id": "ed95c911-5232-478f-bd64-1becdfd30cf5",
   "metadata": {},
   "outputs": [
    {
     "name": "stderr",
     "output_type": "stream",
     "text": [
      "2021-07-07 12:07:54.067317: I tensorflow/compiler/jit/xla_cpu_device.cc:41] Not creating XLA devices, tf_xla_enable_xla_devices not set\n",
      "2021-07-07 12:07:54.067492: I tensorflow/core/platform/cpu_feature_guard.cc:142] This TensorFlow binary is optimized with oneAPI Deep Neural Network Library (oneDNN) to use the following CPU instructions in performance-critical operations:  SSE4.1 SSE4.2 AVX AVX2\n",
      "To enable them in other operations, rebuild TensorFlow with the appropriate compiler flags.\n",
      "2021-07-07 12:07:54.068687: I tensorflow/core/common_runtime/process_util.cc:146] Creating new thread pool with default inter op setting: 2. Tune using inter_op_parallelism_threads for best performance.\n"
     ]
    }
   ],
   "source": [
    "import pennylane as qml\n",
    "\n",
    "n_qubits = 4\n",
    "n_layers = 4\n",
    "\n",
    "# default.qubit.tf is a quantum simulator that uses Tensorflow as backend\n",
    "# it supports back-propagation, which is useful with a large number of\n",
    "# parameters\n",
    "\n",
    "dev = qml.device(\"default.qubit.tf\",wires=n_qubits) # Device initialization\n",
    "\n",
    "# In pennylane, quantum circuits are mostly defined via the qnode decorator\n",
    "# applied to a function which describes the quantum gates to be applied to \n",
    "# each qubit and, finally, the measurement to be performed.\n",
    "\n",
    "@qml.qnode(dev, interface=\"tf\", diff_method='backprop')\n",
    "def circuit(inputs,weights):\n",
    "    \n",
    "# The AmplitudeEmbedding template implements the embedding of 2**N features\n",
    "# in N qubits. Amplitudes must be < 0, so a normalization is performed. \n",
    "    qml.templates.AmplitudeEmbedding(inputs,wires=range(n_qubits),normalize=True)\n",
    "    \n",
    "# The StronglyEntanglingLayers templates implements a variable number of\n",
    "# layers made of rotation around all the axes and CNOT gates. Rotation angles\n",
    "# are passed via the weights parameter of dimension (n_layers,n_qubits,3)\n",
    "    qml.templates.StronglyEntanglingLayers(weights, wires=range(4))\n",
    "    \n",
    "# Finally, the expectation value of the Sigma_Z Pauli matrix of the first qubit\n",
    "# is measured. It will range from -1 to 1 and will be mapped to a label prediction\n",
    "    return qml.expval(qml.PauliZ(0))"
   ]
  },
  {
   "cell_type": "markdown",
   "id": "95f22f54-c988-49b0-91a6-2b77fd9e8ec5",
   "metadata": {},
   "source": [
    "## Keras model\n",
    "A great feature of pennylane is that it can be integrated flawlessly inside Keras and PyTorch models. This allows for the developing of hybrid quantum-classical machine learning models. "
   ]
  },
  {
   "cell_type": "code",
   "execution_count": 6,
   "id": "f81cc64b-ade9-4f93-829b-c28ba7d77180",
   "metadata": {},
   "outputs": [],
   "source": [
    "from tensorflow.keras import Sequential\n",
    "from tensorflow.keras.layers import Activation\n",
    "\n",
    "# We generate the quantum Keras layer, specifiying the dimension of the\n",
    "# trainable parameters and of the output of the layer.\n",
    "quantum_layer = qml.qnn.keras.KerasLayer(circuit,weight_shapes={'weights':(n_layers,n_qubits,3)},output_dim=1)\n",
    "\n",
    "# Finally, we build a Sequencial model appending a sigmoid function to\n",
    "# the quantum layer\n",
    "model = Sequential([quantum_layer,Activation('sigmoid')])"
   ]
  },
  {
   "cell_type": "markdown",
   "id": "c41aae0a-3c41-4562-8986-0c65a1dda2c7",
   "metadata": {},
   "source": [
    "## Training"
   ]
  },
  {
   "cell_type": "code",
   "execution_count": 7,
   "id": "12fb4d14-a8a6-44a9-b8f2-5d219bcdb012",
   "metadata": {},
   "outputs": [
    {
     "name": "stderr",
     "output_type": "stream",
     "text": [
      "2021-07-07 12:07:59.371609: I tensorflow/compiler/mlir/mlir_graph_optimization_pass.cc:116] None of the MLIR optimization passes are enabled (registered 2)\n",
      "2021-07-07 12:07:59.371896: I tensorflow/core/platform/profile_utils/cpu_utils.cc:112] CPU Frequency: 2999985000 Hz\n"
     ]
    },
    {
     "name": "stdout",
     "output_type": "stream",
     "text": [
      "Epoch 1/10\n",
      "4/4 [==============================] - 10s 3s/step - loss: 0.2575 - binary_accuracy: 0.4844 - val_loss: 0.2424 - val_binary_accuracy: 0.6250\n",
      "Epoch 2/10\n",
      "4/4 [==============================] - 10s 3s/step - loss: 0.2536 - binary_accuracy: 0.4729 - val_loss: 0.2419 - val_binary_accuracy: 0.6172\n",
      "Epoch 3/10\n",
      "4/4 [==============================] - 9s 2s/step - loss: 0.2542 - binary_accuracy: 0.3990 - val_loss: 0.2428 - val_binary_accuracy: 0.6328\n",
      "Epoch 4/10\n",
      "4/4 [==============================] - 9s 2s/step - loss: 0.2516 - binary_accuracy: 0.5177 - val_loss: 0.2437 - val_binary_accuracy: 0.5781\n",
      "Epoch 5/10\n",
      "4/4 [==============================] - 9s 2s/step - loss: 0.2508 - binary_accuracy: 0.5385 - val_loss: 0.2443 - val_binary_accuracy: 0.5859\n",
      "Epoch 6/10\n",
      "4/4 [==============================] - 10s 3s/step - loss: 0.2440 - binary_accuracy: 0.5563 - val_loss: 0.2450 - val_binary_accuracy: 0.5859\n",
      "Epoch 7/10\n",
      "4/4 [==============================] - 10s 3s/step - loss: 0.2429 - binary_accuracy: 0.5437 - val_loss: 0.2452 - val_binary_accuracy: 0.5859\n",
      "Epoch 8/10\n",
      "4/4 [==============================] - 10s 2s/step - loss: 0.2422 - binary_accuracy: 0.5823 - val_loss: 0.2453 - val_binary_accuracy: 0.5703\n",
      "Epoch 9/10\n",
      "4/4 [==============================] - 10s 2s/step - loss: 0.2382 - binary_accuracy: 0.5729 - val_loss: 0.2457 - val_binary_accuracy: 0.5703\n",
      "Epoch 10/10\n",
      "4/4 [==============================] - 9s 2s/step - loss: 0.2348 - binary_accuracy: 0.6302 - val_loss: 0.2464 - val_binary_accuracy: 0.4844\n"
     ]
    }
   ],
   "source": [
    "from tensorflow.keras.optimizers import Adam\n",
    "\n",
    "# Let's pick an optimizer\n",
    "opt = Adam(learning_rate=0.02)\n",
    "\n",
    "# We choose the Mean Square Error as our loss function and a binary\n",
    "# accuracy as our metric\n",
    "model.compile(opt, loss=\"mse\",metrics=['binary_accuracy']) \n",
    "\n",
    "# We fix the size of the training dataset and validation dataset\n",
    "training_size   = 100\n",
    "validation_size = 100\n",
    "\n",
    "# And build a balanced training sample ...\n",
    "bsample = trainData[trainData.Jet_LABEL == 0].sample(training_size//2)\n",
    "bbarsample = trainData[trainData.Jet_LABEL == 1].sample(training_size//2)\n",
    "\n",
    "training_sample = pd.concat([bsample,bbarsample]).sample(frac=1.0)\n",
    "\n",
    "X = training_sample[variables[1:-1]]\n",
    "Y = training_sample[variables[-1]]\n",
    "\n",
    "# And validation sample\n",
    "val_bsample = testData[testData.Jet_LABEL == 0].sample(validation_size//2)\n",
    "val_bbarsample = testData[testData.Jet_LABEL == 1].sample(validation_size//2)\n",
    "\n",
    "validation_sample = pd.concat([val_bsample,val_bbarsample]).sample(frac=1.0)\n",
    "\n",
    "val_X = validation_sample[variables[1:-1]]\n",
    "val_Y = validation_sample[variables[-1]]\n",
    "\n",
    "# Finally, we start the training process\n",
    "n_epochs = 10\n",
    "history_fit = model.fit(X,Y,epochs=n_epochs,validation_data=(val_X,val_Y))"
   ]
  },
  {
   "cell_type": "markdown",
   "id": "03a0cb41-f4dc-41ee-af04-bb50b3548164",
   "metadata": {},
   "source": [
    "## Training results"
   ]
  },
  {
   "cell_type": "code",
   "execution_count": 8,
   "id": "8c53c466-d2a4-4e3e-9f60-f9a2fc18bc51",
   "metadata": {},
   "outputs": [
    {
     "data": {
      "text/plain": [
       "<matplotlib.legend.Legend at 0x7fb2b075a190>"
      ]
     },
     "execution_count": 8,
     "metadata": {},
     "output_type": "execute_result"
    },
    {
     "data": {
      "image/png": "[encoded data removed]",
      "text/plain": [
       "<Figure size 432x288 with 1 Axes>"
      ]
     },
     "metadata": {
      "needs_background": "light"
     },
     "output_type": "display_data"
    }
   ],
   "source": [
    "plt.plot(history_fit.history['loss'], label=\"Training\")\n",
    "plt.plot(history_fit.history['val_loss'], label=\"Validation\")\n",
    "plt.xlabel(\"Epoch\")\n",
    "plt.ylabel(\"Loss\")\n",
    "plt.grid()\n",
    "plt.legend()"
   ]
  },
  {
   "cell_type": "code",
   "execution_count": 9,
   "id": "cff08242-c5ed-4419-a533-4195418a5d46",
   "metadata": {},
   "outputs": [
    {
     "data": {
      "text/plain": [
       "<matplotlib.legend.Legend at 0x7fb2b02e5160>"
      ]
     },
     "execution_count": 9,
     "metadata": {},
     "output_type": "execute_result"
    },
    {
     "data": {
      "image/png": "[encoded data removed]",
      "text/plain": [
       "<Figure size 432x288 with 1 Axes>"
      ]
     },
     "metadata": {
      "needs_background": "light"
     },
     "output_type": "display_data"
    }
   ],
   "source": [
    "plt.plot(history_fit.history['binary_accuracy'], label=\"Training\")\n",
    "plt.plot(history_fit.history['val_binary_accuracy'], label=\"Validation\")\n",
    "plt.xlabel(\"Epoch\")\n",
    "plt.ylabel(\"Loss\")\n",
    "plt.grid()\n",
    "plt.legend()"
   ]
  },
  {
   "cell_type": "markdown",
   "id": "e7260fa7-2f2c-4225-b04a-be14025516ff",
   "metadata": {},
   "source": [
    "## Testing"
   ]
  },
  {
   "cell_type": "code",
   "execution_count": null,
   "id": "55346410-23a6-4572-b8eb-06b3a98dab95",
   "metadata": {},
   "outputs": [],
   "source": [
    "\n",
    "# Let's also build a balanced testing sample\n",
    "testing_size = 1000\n",
    "\n",
    "test_bsample = testData[testData.Jet_LABEL == 0].sample(testing_size//2)\n",
    "test_bbarsample = testData[testData.Jet_LABEL == 1].sample(testing_size//2)\n",
    "\n",
    "testing_sample = pd.concat([test_bsample,test_bbarsample]).sample(frac=1.0)\n",
    "\n",
    "test_X = testing_sample[variables[1:-1]]\n",
    "test_Y = testing_sample[variables[-1]]\n",
    "\n",
    "# And let's predict the label with our trained model\n",
    "test_predY= model.predict(test_X)\n",
    "testing_sample['RawPred'] = test_predY\n",
    "testing_sample['Jet_PREDLABEL'] = np.round(test_predY)"
   ]
  },
  {
   "cell_type": "markdown",
   "id": "74fab2d9-a74c-4ac8-9074-04a79a77d3f6",
   "metadata": {},
   "source": [
    "## Testing results"
   ]
  },
  {
   "cell_type": "markdown",
   "id": "c991640a-cef5-458a-9dd0-5de6108e826b",
   "metadata": {},
   "source": [
    "### Prediction distribution"
   ]
  },
  {
   "cell_type": "code",
   "execution_count": null,
   "id": "021dfd64-56c3-4db5-8fe7-14a1a85da176",
   "metadata": {},
   "outputs": [],
   "source": [
    "plt.hist(testing_sample[testing_sample['Jet_LABEL'] == 0]['RawPred'],bins=100,alpha=0.7,label=\"b\")\n",
    "plt.hist(testing_sample[testing_sample['Jet_LABEL'] == 1]['RawPred'],bins=100,alpha=0.7,label=\"$\\\\bar{b}$\")\n",
    "plt.xlabel(\"RawPred\")\n",
    "plt.legend()\n",
    "plt.plot()"
   ]
  },
  {
   "cell_type": "markdown",
   "id": "1acd6b7e-f80b-4658-84ae-f6650efda640",
   "metadata": {},
   "source": [
    "## Receiver Operating Characteristic curve and Area Under Curve"
   ]
  },
  {
   "cell_type": "code",
   "execution_count": null,
   "id": "b9368912-df11-4183-8e31-e804aea057ad",
   "metadata": {},
   "outputs": [],
   "source": [
    "from sklearn.metrics import roc_auc_score, roc_curve\n",
    "\n",
    "fpr,tpr, _ = roc_curve(testing_sample['Jet_LABEL'],testing_sample['RawPred'])\n",
    "auc = roc_auc_score(testing_sample['Jet_LABEL'],testing_sample['RawPred'])"
   ]
  },
  {
   "cell_type": "code",
   "execution_count": null,
   "id": "e7728568-9c58-4d77-8d1d-58e7dcba4d10",
   "metadata": {},
   "outputs": [],
   "source": [
    "plt.plot(fpr,tpr,label='QML')\n",
    "plt.plot([0,1],[0,1], label='Random classifier')\n",
    "plt.text(0.6,0.2,f\"AUC = {auc:.2}\",fontsize=20)\n",
    "plt.legend()"
   ]
  },
  {
   "cell_type": "markdown",
   "id": "e3355f26-6da3-45ad-9219-8001d9c027cb",
   "metadata": {},
   "source": [
    "## Saving predictions"
   ]
  },
  {
   "cell_type": "code",
   "execution_count": null,
   "id": "d0d1e058-d78e-434d-b977-2e74f8e7d02e",
   "metadata": {},
   "outputs": [],
   "source": [
    "testing_sample"
   ]
  },
  {
   "cell_type": "code",
   "execution_count": null,
   "id": "7d61e00e-555d-4fa5-a0d9-0968f946b812",
   "metadata": {},
   "outputs": [],
   "source": [
    "# Finally, we can save our model prediction for future analysis (bbar asymmetry estimation,\n",
    "# tagging performance analysis, ...)\n",
    "\n",
    "testing_sample.to_csv(\"data_with_predictions.csv\",index=False)"
   ]
  },
  {
   "cell_type": "code",
   "execution_count": null,
   "id": "4d6b912d-b2c9-45f3-885c-9dc2e518f173",
   "metadata": {},
   "outputs": [],
   "source": []
  }
 ],
 "metadata": {
  "kernelspec": {
   "display_name": "Python 3 (ipykernel)",
   "language": "python",
   "name": "python3"
  },
  "language_info": {
   "codemirror_mode": {
    "name": "ipython",
    "version": 3
   },
   "file_extension": ".py",
   "mimetype": "text/x-python",
   "name": "python",
   "nbconvert_exporter": "python",
   "pygments_lexer": "ipython3",
   "version": "3.9.5"
  }
 },
 "nbformat": 4,
 "nbformat_minor": 5
}
