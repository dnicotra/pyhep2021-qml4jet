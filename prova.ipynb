{
 "metadata": {
  "language_info": {
   "codemirror_mode": {
    "name": "ipython",
    "version": 3
   },
   "file_extension": ".py",
   "mimetype": "text/x-python",
   "name": "python",
   "nbconvert_exporter": "python",
   "pygments_lexer": "ipython3",
   "version": "3.7.6"
  },
  "orig_nbformat": 2,
  "kernelspec": {
   "name": "python3",
   "display_name": "Python 3.7.6 64-bit (conda)",
   "metadata": {
    "interpreter": {
     "hash": "4ba8d40b95e105c27779ef17c3ac2e5dbaf81815cabe305627999a7110b79b32"
    }
   }
  }
 },
 "nbformat": 4,
 "nbformat_minor": 2,
 "cells": [
  {
   "cell_type": "code",
   "execution_count": 1,
   "metadata": {},
   "outputs": [],
   "source": [
    "#!/usr/bin/env python\n",
    "# coding: utf-8\n",
    "\n",
    "import os, shutil, sys\n",
    "from datetime import datetime\n",
    "#import AnaUtils as mc\n",
    "import configparser\n",
    "import argparse\n",
    "import pennylane as qml\n",
    "import numpy as np\n",
    "from pennylane.templates import QAOAEmbedding, StronglyEntanglingLayers\n",
    "from pennylane.optimize import AdagradOptimizer,AdamOptimizer\n",
    "from sklearn.preprocessing import StandardScaler\n",
    "from sklearn.model_selection import train_test_split\n",
    "import time\n",
    "import pandas as pd\n",
    "from os.path import basename\n",
    "import matplotlib.pyplot as plt\n",
    "from sklearn.metrics import roc_curve,roc_auc_score\n",
    "from sklearn import metrics"
   ]
  },
  {
   "cell_type": "code",
   "execution_count": 2,
   "metadata": {},
   "outputs": [],
   "source": [
    "df_train = pd.read_csv('/mldata/bb_asym/MC/csv/v2/trainData.csv')\n",
    "df_test = pd.read_csv('/mldata/bb_asym/MC/csv/v2/testData.csv')\n",
    "inputpath = \"/mldata/bb_asym/MC/hdf/newv2/\""
   ]
  },
  {
   "cell_type": "code",
   "execution_count": 3,
   "metadata": {},
   "outputs": [],
   "source": [
    "fw = { \"bb\": [1.,0.2497949295,0.1465910663,0.0045055782],       \"cc\": [1.,0.2078621513,0.1203924034,0.0034683555],       \"qq\": [1, 0.2164989008, 0.1153463426, 0.0034510991]}\n",
    "\n",
    "fnames = [\"Dijet_bb_pt10_15_dw.hdf\", \"Dijet_bb_pt10_15_up.hdf\", \"Dijet_bb_pt15_20_dw.hdf\", \"Dijet_bb_pt15_20_up.hdf\",\"Dijet_bb_pt20_50_dw.hdf\", \"Dijet_bb_pt20_50_up.hdf\",\"Dijet_bb_pt50_dw.hdf\", \"Dijet_bb_pt50_up.hdf\"]\n",
    "#fnames = [\"Dijet_bb_pt10_15_dw.hdf\", \"Dijet_bb_pt10_15_up.hdf\", \"Dijet_bb_pt15_20_dw.hdf\", \"Dijet_bb_pt15_20_up.hdf\"]"
   ]
  },
  {
   "cell_type": "code",
   "execution_count": 4,
   "metadata": {},
   "outputs": [],
   "source": [
    "columns_to_import = ['idx', 'Jet_foundMuon', 'Jet_muon_q', 'Jet_muon_PT', \n",
    "                       'Jet_LABEL', 'Jet_PT', 'Jet_ETA', 'Jet_PHI']"
   ]
  },
  {
   "cell_type": "code",
   "execution_count": 5,
   "metadata": {},
   "outputs": [],
   "source": [
    "def getFileWeight(wtable, fname):\n",
    "    for k in wtable.keys():\n",
    "        if k in fname:\n",
    "            key=k\n",
    "    for i,j in enumerate([\"pt10\", \"pt15\", \"pt20\", \"pt50\"]):\n",
    "        if j in fname:\n",
    "            index=i\n",
    "    return wtable[key][index]"
   ]
  },
  {
   "cell_type": "code",
   "execution_count": 6,
   "metadata": {},
   "outputs": [
    {
     "output_type": "stream",
     "name": "stdout",
     "text": [
      "/mldata/bb_asym/MC/hdf/newv2/Dijet_bb_pt10_15_dw.hdf\n",
      "/mldata/bb_asym/MC/hdf/newv2/Dijet_bb_pt10_15_up.hdf\n",
      "/mldata/bb_asym/MC/hdf/newv2/Dijet_bb_pt15_20_dw.hdf\n",
      "/mldata/bb_asym/MC/hdf/newv2/Dijet_bb_pt15_20_up.hdf\n",
      "/mldata/bb_asym/MC/hdf/newv2/Dijet_bb_pt20_50_dw.hdf\n",
      "/mldata/bb_asym/MC/hdf/newv2/Dijet_bb_pt20_50_up.hdf\n",
      "/mldata/bb_asym/MC/hdf/newv2/Dijet_bb_pt50_dw.hdf\n",
      "/mldata/bb_asym/MC/hdf/newv2/Dijet_bb_pt50_up.hdf\n"
     ]
    }
   ],
   "source": [
    "indata = pd.DataFrame()\n",
    "weights=[]\n",
    "for fn in fnames:\n",
    "    temp = pd.read_hdf(inputpath+fn, columns=columns_to_import)\n",
    "    print(inputpath+fn)\n",
    "    indata = pd.concat([indata, temp], axis=0)\n",
    "    weights = np.append(weights, np.full((1, temp.shape[0]), getFileWeight(fw, fn)))\n",
    "indata['weights'] = weights.tolist()\n",
    "\n",
    "# use 'idx' as index\n",
    "indata.set_index('idx', inplace=True)\n",
    "idxjet = df_test['idx']\n"
   ]
  },
  {
   "cell_type": "code",
   "execution_count": 7,
   "metadata": {},
   "outputs": [],
   "source": [
    "# filter input data \n",
    "jet_df = indata.loc[idxjet]"
   ]
  },
  {
   "cell_type": "code",
   "execution_count": 8,
   "metadata": {},
   "outputs": [
    {
     "output_type": "stream",
     "name": "stdout",
     "text": [
      "                     prob\nidx                      \n67534_bbdw50V2   0.401224\n206375_bbup50V2  0.359896\n210480_bbup20V2  0.642130\n152795_bbdw20V2  0.416559\n70915_bbup50V2   0.409409\n...                   ...\n29075_bbup50V2   0.484026\n1599_bbdw50V2    0.427681\n201530_bbdw20V2  0.589480\n11186_bbdw15V2   0.394622\n124949_bbup50V2  0.431559\n\n[295218 rows x 1 columns]\n"
     ]
    }
   ],
   "source": [
    "prediction = pd.read_csv('/lhcbdata/users/zuliani/lhcb_mljet/BBAsym/results/article/results/DN_TestProb.csv')\n",
    "prediction.set_index('idx', inplace=True)\n",
    "print(prediction)\n",
    "prob = prediction['prob']\n",
    "jet_df['prob'] = prob"
   ]
  },
  {
   "cell_type": "code",
   "execution_count": 9,
   "metadata": {},
   "outputs": [
    {
     "output_type": "stream",
     "name": "stdout",
     "text": [
      "                 Jet_foundMuon  Jet_muon_q  Jet_muon_PT  Jet_LABEL  \\\nidx                                                                  \n67534_bbdw50V2           False           0        -99.0         -1   \n206375_bbup50V2          False           0        -99.0          1   \n210480_bbup20V2          False           0        -99.0         -1   \n152795_bbdw20V2          False           0        -99.0         -1   \n70915_bbup50V2           False           0        -99.0         -1   \n...                        ...         ...          ...        ...   \n29075_bbup50V2           False           0        -99.0          1   \n1599_bbdw50V2            False           0        -99.0         -1   \n201530_bbdw20V2          False           0        -99.0          1   \n11186_bbdw15V2           False           0        -99.0         -1   \n124949_bbup50V2          False           0        -99.0         -1   \n\n                       Jet_PT   Jet_ETA   Jet_PHI   weights      prob  \nidx                                                                    \n67534_bbdw50V2   54352.419775  2.601848 -2.097930  0.004506  0.401224  \n206375_bbup50V2  47565.417878  2.772848 -0.657706  0.004506  0.359896  \n210480_bbup20V2  32063.111625  2.902357  1.269344  0.146591  0.642130  \n152795_bbdw20V2  43709.960975  3.237630  1.895647  0.146591  0.416559  \n70915_bbup50V2   30147.310824  2.727333  0.226297  0.004506  0.409409  \n...                       ...       ...       ...       ...       ...  \n29075_bbup50V2   77805.362249  2.873823 -2.800296  0.004506  0.484026  \n1599_bbdw50V2    55719.790285  2.223532 -2.812439  0.004506  0.427681  \n201530_bbdw20V2  31750.298370  3.639299  0.545732  0.146591  0.589480  \n11186_bbdw15V2   23366.769833  2.344265 -2.199778  0.249795  0.394622  \n124949_bbup50V2  91188.496270  3.356317 -1.186848  0.004506  0.431559  \n\n[295218 rows x 9 columns]\n"
     ]
    }
   ],
   "source": [
    "print( jet_df)"
   ]
  },
  {
   "cell_type": "code",
   "execution_count": 10,
   "metadata": {},
   "outputs": [],
   "source": [
    "def MC_ApplyAlgTagging(df, netype=\"MuTag\", ProbLcut=0.5, ProbRcut=0.5, mu_cut=5000):\n",
    "    \"\"\"\n",
    "    Performs the MLAlg tagging for each jet, and applies a probabilities R/L cuts or a muonPT cut.\n",
    "    netype is used to identify columns name. \n",
    "    -> Right cut is for label 1, left cut for label 0 \n",
    "\n",
    "    COLUMNS REQUIRED          COLUMNS ADDED\n",
    "    Jet_foundMuon (if MuTag)  \"Jet_%s_Charge\"%nettype (0: Not tagged)    \n",
    "    Jet_muon_q    (if MuTag)\n",
    "    Jet_muon_PT   (if MuTag)\n",
    "    Jet_%sProb\"%netype       \n",
    "    \"\"\"\n",
    "    if (netype==\"MuTag\"):\n",
    "      df['Jet_MuTag_Charge'] = 0\n",
    "      tt_Jet = (df['Jet_foundMuon'] == 1) & (df['Jet_muon_PT'] > mu_cut)\n",
    "      df.loc[tt_Jet, 'Jet_MuTag_Charge'] = df.loc[tt_Jet].Jet_muon_q\n",
    "    else:\n",
    "      df['Jet_%s_Charge'%netype] = 0\n",
    "      tt_Jet_1 = (df[\"Jet_%sProb\"%netype] > ProbRcut)\n",
    "      tt_Jet_0 = (df[\"Jet_%sProb\"%netype] < ProbLcut)\n",
    "      df.loc[tt_Jet_1,'Jet_%s_Charge'%netype] =  1\n",
    "      df.loc[tt_Jet_0,'Jet_%s_Charge'%netype] =  -1\n",
    "\n",
    "def MC_ApplyAlgChecking(df, netype=\"MuTag\"):\n",
    "    \"\"\"\n",
    "    Checks the result of the Alg tagging by comparing the guess with the MC-truth.\n",
    "    netype is used to identify columns name. \n",
    "\n",
    "    COLUMNS REQUIRED           COLUMNS ADDED\n",
    "\n",
    "    \"Jet_%s_Charge\"%netype     \"Jet_%s_Check\"%netype     \n",
    "    Jet_MATCHED_CHARGE\n",
    "    \"\"\"\n",
    "    df['Jet_%s_Check'%netype] = 0\n",
    "\n",
    "    tt_correct_jet = (df['Jet_%s_Charge'%netype] != 0) & (df['Jet_%s_Charge'%netype] == df.Jet_MATCHED_CHARGE)\n",
    "    tt_notcorrect_jet = (df['Jet_%s_Charge'%netype] != 0) & (df['Jet_%s_Charge'%netype] != df.Jet_MATCHED_CHARGE)\n",
    "\n",
    "    df.loc[tt_correct_jet, 'Jet_%s_Check'%netype] = 1\n",
    "    df.loc[tt_notcorrect_jet, 'Jet_%s_Check'%netype] = -1"
   ]
  },
  {
   "cell_type": "code",
   "execution_count": 11,
   "metadata": {},
   "outputs": [
    {
     "output_type": "stream",
     "name": "stdout",
     "text": [
      "                 Jet_foundMuon  Jet_muon_q  Jet_muon_PT  Jet_MATCHED_CHARGE  \\\nidx                                                                           \n67534_bbdw50V2           False           0        -99.0                  -1   \n206375_bbup50V2          False           0        -99.0                   1   \n210480_bbup20V2          False           0        -99.0                  -1   \n152795_bbdw20V2          False           0        -99.0                  -1   \n70915_bbup50V2           False           0        -99.0                  -1   \n...                        ...         ...          ...                 ...   \n29075_bbup50V2           False           0        -99.0                   1   \n1599_bbdw50V2            False           0        -99.0                  -1   \n201530_bbdw20V2          False           0        -99.0                   1   \n11186_bbdw15V2           False           0        -99.0                  -1   \n124949_bbup50V2          False           0        -99.0                  -1   \n\n                       Jet_PT   Jet_ETA   Jet_PHI   weights  Jet_QuantumProb  \nidx                                                                           \n67534_bbdw50V2   54352.419775  2.601848 -2.097930  0.004506         0.401224  \n206375_bbup50V2  47565.417878  2.772848 -0.657706  0.004506         0.359896  \n210480_bbup20V2  32063.111625  2.902357  1.269344  0.146591         0.642130  \n152795_bbdw20V2  43709.960975  3.237630  1.895647  0.146591         0.416559  \n70915_bbup50V2   30147.310824  2.727333  0.226297  0.004506         0.409409  \n...                       ...       ...       ...       ...              ...  \n29075_bbup50V2   77805.362249  2.873823 -2.800296  0.004506         0.484026  \n1599_bbdw50V2    55719.790285  2.223532 -2.812439  0.004506         0.427681  \n201530_bbdw20V2  31750.298370  3.639299  0.545732  0.146591         0.589480  \n11186_bbdw15V2   23366.769833  2.344265 -2.199778  0.249795         0.394622  \n124949_bbup50V2  91188.496270  3.356317 -1.186848  0.004506         0.431559  \n\n[295218 rows x 9 columns]\n"
     ]
    }
   ],
   "source": [
    "jet_df.rename(columns={\"Jet_LABEL\": \"Jet_MATCHED_CHARGE\"}, inplace=True)\n",
    "jet_df.rename(columns={\"prob\": \"Jet_QuantumProb\"}, inplace=True)\n",
    "print(jet_df)\n",
    "MC_ApplyAlgTagging(jet_df, \"Quantum\")\n",
    "MC_ApplyAlgChecking(jet_df, \"Quantum\")"
   ]
  },
  {
   "cell_type": "code",
   "execution_count": 12,
   "metadata": {},
   "outputs": [
    {
     "output_type": "stream",
     "name": "stdout",
     "text": [
      "                 Jet_foundMuon  Jet_muon_q  Jet_muon_PT  Jet_MATCHED_CHARGE  \\\nidx                                                                           \n67534_bbdw50V2           False           0        -99.0                  -1   \n206375_bbup50V2          False           0        -99.0                   1   \n210480_bbup20V2          False           0        -99.0                  -1   \n152795_bbdw20V2          False           0        -99.0                  -1   \n70915_bbup50V2           False           0        -99.0                  -1   \n...                        ...         ...          ...                 ...   \n29075_bbup50V2           False           0        -99.0                   1   \n1599_bbdw50V2            False           0        -99.0                  -1   \n201530_bbdw20V2          False           0        -99.0                   1   \n11186_bbdw15V2           False           0        -99.0                  -1   \n124949_bbup50V2          False           0        -99.0                  -1   \n\n                       Jet_PT   Jet_ETA   Jet_PHI   weights  Jet_QuantumProb  \\\nidx                                                                            \n67534_bbdw50V2   54352.419775  2.601848 -2.097930  0.004506         0.401224   \n206375_bbup50V2  47565.417878  2.772848 -0.657706  0.004506         0.359896   \n210480_bbup20V2  32063.111625  2.902357  1.269344  0.146591         0.642130   \n152795_bbdw20V2  43709.960975  3.237630  1.895647  0.146591         0.416559   \n70915_bbup50V2   30147.310824  2.727333  0.226297  0.004506         0.409409   \n...                       ...       ...       ...       ...              ...   \n29075_bbup50V2   77805.362249  2.873823 -2.800296  0.004506         0.484026   \n1599_bbdw50V2    55719.790285  2.223532 -2.812439  0.004506         0.427681   \n201530_bbdw20V2  31750.298370  3.639299  0.545732  0.146591         0.589480   \n11186_bbdw15V2   23366.769833  2.344265 -2.199778  0.249795         0.394622   \n124949_bbup50V2  91188.496270  3.356317 -1.186848  0.004506         0.431559   \n\n                 Jet_Quantum_Charge  Jet_Quantum_Check  \nidx                                                     \n67534_bbdw50V2                   -1                  1  \n206375_bbup50V2                  -1                 -1  \n210480_bbup20V2                   1                 -1  \n152795_bbdw20V2                  -1                  1  \n70915_bbup50V2                   -1                  1  \n...                             ...                ...  \n29075_bbup50V2                   -1                 -1  \n1599_bbdw50V2                    -1                  1  \n201530_bbdw20V2                   1                  1  \n11186_bbdw15V2                   -1                  1  \n124949_bbup50V2                  -1                  1  \n\n[295218 rows x 11 columns]\n"
     ]
    }
   ],
   "source": [
    "print(jet_df)"
   ]
  },
  {
   "cell_type": "code",
   "execution_count": 13,
   "metadata": {},
   "outputs": [],
   "source": [
    "def MC_GetAlgPerformances(jet_df, netype=\"MuTag\"):\n",
    "    \"\"\"\n",
    "    Extract Alg performance and associated uncertainties.\n",
    "    netype is used to identify columns name.\n",
    "\n",
    "    COLUMNS REQUIRED\n",
    "    'Jet_%s_Check'%netype\n",
    "    \"\"\"\n",
    "    N_tot = len(jet_df)\n",
    "    print(N_tot)\n",
    "\n",
    "    #jet_df.drop(jet_df[(jet_df.Jet_muon_q == 0)].index,inplace=True)      #considera solo i muoni\n",
    "\n",
    "    N_tag = jet_df['Jet_%s_Check'%netype].value_counts()[1] + jet_df['Jet_%s_Check'%netype].value_counts()[-1]\n",
    "    N_wrong = jet_df['Jet_%s_Check'%netype].value_counts()[-1]\n",
    "    #Efficiency\n",
    "    eps_eff = float(N_tag)/N_tot\n",
    "    err_eps_eff = np.sqrt(eps_eff*(1-eps_eff)/N_tot)\n",
    "    #Omega\n",
    "    omega = float(N_wrong)/(N_tag)\n",
    "    err_omega  = np.sqrt(omega*(1-omega)/N_tag)\n",
    "\n",
    "    #Accuracy\n",
    "    accuracy = 1- omega\n",
    "    \n",
    "    #Tagging Power\n",
    "    eps_tag = (eps_eff * (1-2*omega)**2)\n",
    "    #err_eps_tag = np.sqrt((N_tot*(eps_eff)*(1-eps_eff)) * Deps_DNtag(N_tot,N_wrong,N_tag)**2 + (N_tag*(omega)*(1-omega)) * Deps_DNw(N_tot,N_wrong,N_tag)**2)\n",
    "    err_eps_tag = 0\n",
    "    #print('tagging power = %s'%eps_tag)\n",
    "    \n",
    "    return eps_eff,omega,eps_tag,err_eps_eff,err_omega,err_eps_tag,N_tot,accuracy"
   ]
  },
  {
   "cell_type": "code",
   "execution_count": 27,
   "metadata": {},
   "outputs": [],
   "source": [
    "def MCAnalysis(jet_df, netype=\"Quantum\", nbins=8, basepath=\"\", legend=True):\n",
    "    '''\n",
    "    Performs the algorithms evaluation\n",
    "    '''\n",
    "\n",
    "    # Discretize variable into equal-sized buckets using jet PT\n",
    "    out,bins = pd.qcut(jet_df.Jet_PT,nbins,retbins=True,labels=False)\n",
    "    bin_centers = []\n",
    "    half_widths = []\n",
    "\n",
    "    omegas = []\n",
    "    err_omegas = []\n",
    "    effs = []\n",
    "    err_effs = []\n",
    "    ptags = []\n",
    "    err_ptags = []\n",
    "    tot = []\n",
    "    accuracies = []\n",
    "\n",
    "    for i in range(nbins):\n",
    "        bin_center = float((bins[i] + bins[i+1])/2)/1000\n",
    "        half_width = float((bins[i+1] - bins[i])/2)/1000\n",
    "        bin_centers.append(bin_center)\n",
    "        half_widths.append(half_width)\n",
    "    \n",
    "        eps_eff,omega,eps_tag,err_eps_eff,err_omega,err_eps_tag,N_tot,accuracy = MC_GetAlgPerformances(jet_df[out == i], netype)\n",
    "        omegas.append(omega*100)\n",
    "        err_omegas.append(err_omega*100)\n",
    "        ptags.append(eps_tag*100)\n",
    "        err_ptags.append(err_eps_tag*100)\n",
    "        effs.append(eps_eff*100)\n",
    "        err_effs.append(err_eps_eff*100)\n",
    "\n",
    "    print(bin_centers)\n",
    "    print(ptags)\n",
    "    print(half_widths)\n",
    "    print(err_ptags)\n",
    " \n",
    "    fig = plt.figure(figsize=(6,6))\n",
    "    plt.errorbar(bin_centers, ptags, xerr=half_widths, yerr=err_ptags, fmt='o', capsize=2, ms=8)\n",
    "  \n",
    "    #plt.xticks(np.arange(20,101, step=80))\n",
    "    #plt.yticks(np.arange(1,40, step=4))\n",
    "    plt.xlabel(\"$\\mathrm{P_{T} \\ (GeV)}$\")\n",
    "    plt.ylabel(\"$\\mathrm{\\epsilon_{tag} \\ (\\%)}$\")\n",
    "\n",
    "    plt.minorticks_on()\n",
    "    plt.figtext(0.530,0.360,\"LHCb Simulation\\nOpen Data\", ma='right', fontsize=18)\n",
    "\n",
    "    fig.savefig(\"./TagPower.png\", bbox_inches='tight')\n",
    "    plt.close()\n",
    "\n",
    "    fig = plt.figure(figsize=(6,6))\n",
    "    plt.errorbar(bin_centers, effs, xerr=half_widths, yerr=err_effs, fmt='o', capsize=2, ms=8)\n",
    "  \n",
    "    #plt.xticks(np.arange(20,101, step=80))\n",
    "    #plt.yticks(np.arange(1,40, step=4))\n",
    "    plt.xlabel(\"$\\mathrm{P_{T} \\ (GeV)}$\")\n",
    "    plt.ylabel(\"$\\mathrm{\\epsilon_{tag} \\ (\\%)}$\")\n",
    "\n",
    "    plt.minorticks_on()\n",
    "    plt.figtext(0.530,0.360,\"LHCb Simulation\\nOpen Data\", ma='right', fontsize=18)\n",
    "\n",
    "    fig.savefig(\"./efficiency.png\", bbox_inches='tight')\n",
    "    plt.close()\n",
    "\n",
    "\n",
    "    fig = plt.figure(figsize=(6,6))\n",
    "    plt.errorbar(bin_centers, omegas, xerr=half_widths, yerr=err_omegas, fmt='o', capsize=2, ms=8)\n",
    "  \n",
    "    #plt.xticks(np.arange(20,101, step=80))\n",
    "    #plt.yticks(np.arange(1,40, step=4))\n",
    "    plt.xlabel(\"$\\mathrm{P_{T} \\ (GeV)}$\")\n",
    "    plt.ylabel(\"$\\mathrm{\\epsilon_{tag} \\ (\\%)}$\")\n",
    "\n",
    "    plt.minorticks_on()\n",
    "    plt.figtext(0.530,0.360,\"LHCb Simulation\\nOpen Data\", ma='right', fontsize=18)\n",
    "\n",
    "    fig.savefig(\"./mistag.png\", bbox_inches='tight')\n",
    "    plt.close()"
   ]
  },
  {
   "cell_type": "code",
   "execution_count": 27,
   "metadata": {},
   "outputs": [],
   "source": [
    "    "
   ]
  },
  {
   "cell_type": "code",
   "execution_count": 28,
   "metadata": {},
   "outputs": [
    {
     "output_type": "stream",
     "name": "stdout",
     "text": [
      "36903\n36902\n36902\n36902\n36902\n36902\n36902\n36903\n[21.704901243007757, 25.52512511551025, 30.589308717134635, 36.82852041315262, 43.046542394278504, 48.98353372151615, 56.042582469236976, 80.04332874453804]\n[7.971292208608471, 7.845221182256748, 8.157957016262054, 7.872569661817728, 7.0612887137584845, 6.88952246159075, 6.957975172797346, 6.606194012374993]\n[1.7047500412834489, 2.1154738312190475, 2.948709770405336, 3.290501925612647, 2.9275200555132397, 3.009471271724411, 4.049577475996411, 19.951168799304657]\n[0, 0, 0, 0, 0, 0, 0, 0]\n"
     ]
    }
   ],
   "source": [
    "MCAnalysis(jet_df)"
   ]
  },
  {
   "source": [
    "fig = plt.figure(figsize=(6,6))\n",
    "plt.errorbar(bin_centers, omegas, xerr=half_widths, yerr=err_omegas, fmt='o', capsize=2, ms=8)\n",
    "  \n",
    "plt.xlabel(\"prob\")\n",
    "plt.ylabel(\"events\")\n",
    "\n",
    "plt.hist()\n",
    "\n",
    "plt.minorticks_on()\n",
    "plt.figtext(0.530,0.360,\"LHCb Simulation\\nOpen Data\", ma='right', fontsize=18)\n",
    "\n",
    "fig.savefig(\"./prob.png\", bbox_inches='tight')\n",
    "plt.close()"
   ],
   "cell_type": "code",
   "metadata": {},
   "execution_count": null,
   "outputs": []
  }
 ]
}